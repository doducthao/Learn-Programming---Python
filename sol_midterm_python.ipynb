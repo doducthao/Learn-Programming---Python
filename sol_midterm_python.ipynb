{
 "cells": [
  {
   "cell_type": "markdown",
   "metadata": {},
   "source": [
    "1. Một cửa hàng bán áo phông giá 20$/cái. Mức độ giảm giá phụ thuộc vào số lượng áo mua như sau\n",
    "\n",
    "\n",
    "| so luong | muc giam gia |\n",
    "|----------|--------------|\n",
    "| 1-9      | 0%           |\n",
    "| 10-19    | 10%          |\n",
    "| 20-39    | 25%          |\n",
    "| >=40     | 40%          |\n",
    "\n",
    "Cho người dùng nhập số lượng áo muốn mua, tính ra thành tiền \n",
    "\n"
   ]
  },
  {
   "cell_type": "code",
   "execution_count": 2,
   "metadata": {},
   "outputs": [],
   "source": [
    "def tien_ban_ao(n):\n",
    "    if 1<=n<=9:\n",
    "        giam_gia = 0\n",
    "    elif 10<=n<=19:\n",
    "        giam_gia = 0.1\n",
    "    elif 20<=n<=39:\n",
    "        giam_gia = 0.25\n",
    "    elif n>=40:\n",
    "        giam_gia = 0.4\n",
    "    return 20*n*(1-giam_gia)"
   ]
  },
  {
   "cell_type": "code",
   "execution_count": 17,
   "metadata": {},
   "outputs": [
    {
     "name": "stdout",
     "output_type": "stream",
     "text": [
      "Tien phai tra: 300 $\n"
     ]
    }
   ],
   "source": [
    "n = 20\n",
    "print('Tien phai tra: {:.0f} $'.format(tien_ban_ao(n)))"
   ]
  },
  {
   "cell_type": "markdown",
   "metadata": {},
   "source": [
    "2. Cho string thể hiện số mặt con xúc sắc sau một số lần tung: \"1,5,2,3,5,,4,4,3,1,1,1,2,3,1,5,6,2\" (lần 1 được mặ 1, lần 2 được mặt 5,...)\n",
    "\n",
    "- (1đ ) Tính số lần tung xúc sắc\n",
    "- (1đ ) Tính tổng tất cả các mặt của các lần tung\n",
    "- (1đ ) Mặt nào xuất hiện nhiều nhất trong các lần tung trên \n"
   ]
  },
  {
   "cell_type": "code",
   "execution_count": 24,
   "metadata": {},
   "outputs": [],
   "source": [
    "tung_xuc_sac = [1,5,2,3,5,4,4,3,1,1,1,2,3,1,5,6,2]"
   ]
  },
  {
   "cell_type": "markdown",
   "metadata": {},
   "source": [
    "số lần tung xúc sắc "
   ]
  },
  {
   "cell_type": "code",
   "execution_count": 25,
   "metadata": {},
   "outputs": [
    {
     "data": {
      "text/plain": [
       "17"
      ]
     },
     "execution_count": 25,
     "metadata": {},
     "output_type": "execute_result"
    }
   ],
   "source": [
    "len(tung_xuc_sac)"
   ]
  },
  {
   "cell_type": "markdown",
   "metadata": {},
   "source": [
    "Tổng tất cả các mặt của các lần tung "
   ]
  },
  {
   "cell_type": "code",
   "execution_count": 26,
   "metadata": {},
   "outputs": [
    {
     "data": {
      "text/plain": [
       "49"
      ]
     },
     "execution_count": 26,
     "metadata": {},
     "output_type": "execute_result"
    }
   ],
   "source": [
    "sum(tung_xuc_sac)"
   ]
  },
  {
   "cell_type": "markdown",
   "metadata": {},
   "source": [
    "mặt xuất hiện nhiều nhất "
   ]
  },
  {
   "cell_type": "code",
   "execution_count": 31,
   "metadata": {},
   "outputs": [
    {
     "name": "stdout",
     "output_type": "stream",
     "text": [
      "{1: 5, 5: 3, 2: 3, 3: 3, 4: 2, 6: 1}\n"
     ]
    }
   ],
   "source": [
    "adict = {}\n",
    "\n",
    "for i in tung_xuc_sac:\n",
    "    if i not in adict:\n",
    "        adict[i] = 1\n",
    "    else:\n",
    "        adict[i] += 1\n",
    "print(adict)"
   ]
  },
  {
   "cell_type": "code",
   "execution_count": 33,
   "metadata": {},
   "outputs": [
    {
     "name": "stdout",
     "output_type": "stream",
     "text": [
      "1\n"
     ]
    }
   ],
   "source": [
    "max_ = 1\n",
    "result = None\n",
    "for k,v in adict.items():\n",
    "    if v >= max_:\n",
    "        (max_, result) = (v, k)\n",
    "print(result)\n",
    "        \n",
    "        "
   ]
  },
  {
   "cell_type": "markdown",
   "metadata": {},
   "source": [
    "3\n",
    "\n",
    "(a) Viết hàm nhập vào 1 số nguyên dương tính số chữ số của nó\n",
    "\n",
    "(b) Viết hàm tìm kiểm tra 1 số có tính chất sau : Tổng các chữ số ở vị trí chắn bằng tổng các chữ số ở vị trí lẻ. VD: Số 143 thỏa mãn vì 4=1+3, số 2530 thỏa mãn vì 2+3=5+0, số 2890 không thỏa.\n",
    "\n",
    "(c) In ra các số nguyên dương nhỏ hơn 1000 thỏa câu b"
   ]
  },
  {
   "cell_type": "code",
   "execution_count": 35,
   "metadata": {},
   "outputs": [],
   "source": [
    "def so_chu_so(n):\n",
    "    a = list(str(n))\n",
    "    return len(a)"
   ]
  },
  {
   "cell_type": "code",
   "execution_count": 38,
   "metadata": {},
   "outputs": [
    {
     "name": "stdout",
     "output_type": "stream",
     "text": [
      "132\n"
     ]
    }
   ],
   "source": [
    "n = int(input())"
   ]
  },
  {
   "cell_type": "code",
   "execution_count": 39,
   "metadata": {},
   "outputs": [
    {
     "data": {
      "text/plain": [
       "3"
      ]
     },
     "execution_count": 39,
     "metadata": {},
     "output_type": "execute_result"
    }
   ],
   "source": [
    "so_chu_so(n)"
   ]
  },
  {
   "cell_type": "code",
   "execution_count": 46,
   "metadata": {},
   "outputs": [],
   "source": [
    "def kiem_tra_so(n):\n",
    "    a = list(str(n))\n",
    "    chan = 0\n",
    "    le = 0\n",
    "    for i in range(0,len(a),2):\n",
    "#         print(i)\n",
    "        le += int(a[i])\n",
    "    for i in range(1,len(a),2):\n",
    "        chan += int(a[i])\n",
    "    if chan == le:\n",
    "        return True\n",
    "    else:\n",
    "        return False\n",
    "        \n",
    "        \n",
    "        "
   ]
  },
  {
   "cell_type": "code",
   "execution_count": 47,
   "metadata": {},
   "outputs": [],
   "source": [
    "n = 143"
   ]
  },
  {
   "cell_type": "code",
   "execution_count": 48,
   "metadata": {},
   "outputs": [
    {
     "data": {
      "text/plain": [
       "True"
      ]
     },
     "execution_count": 48,
     "metadata": {},
     "output_type": "execute_result"
    }
   ],
   "source": [
    "kiem_tra_so(n)"
   ]
  },
  {
   "cell_type": "code",
   "execution_count": 49,
   "metadata": {},
   "outputs": [],
   "source": [
    "n = 2530"
   ]
  },
  {
   "cell_type": "code",
   "execution_count": 50,
   "metadata": {},
   "outputs": [
    {
     "data": {
      "text/plain": [
       "True"
      ]
     },
     "execution_count": 50,
     "metadata": {},
     "output_type": "execute_result"
    }
   ],
   "source": [
    "kiem_tra_so(n)"
   ]
  },
  {
   "cell_type": "code",
   "execution_count": 51,
   "metadata": {},
   "outputs": [],
   "source": [
    "n = 2890"
   ]
  },
  {
   "cell_type": "code",
   "execution_count": 52,
   "metadata": {},
   "outputs": [
    {
     "data": {
      "text/plain": [
       "False"
      ]
     },
     "execution_count": 52,
     "metadata": {},
     "output_type": "execute_result"
    }
   ],
   "source": [
    "kiem_tra_so(n)"
   ]
  },
  {
   "cell_type": "code",
   "execution_count": 57,
   "metadata": {},
   "outputs": [],
   "source": [
    "def in_so():\n",
    "    for i in range(1,1000):\n",
    "        if kiem_tra_so(i):\n",
    "            print(i, end = ' ')"
   ]
  },
  {
   "cell_type": "code",
   "execution_count": 58,
   "metadata": {},
   "outputs": [
    {
     "name": "stdout",
     "output_type": "stream",
     "text": [
      "11 22 33 44 55 66 77 88 99 110 121 132 143 154 165 176 187 198 220 231 242 253 264 275 286 297 330 341 352 363 374 385 396 440 451 462 473 484 495 550 561 572 583 594 660 671 682 693 770 781 792 880 891 990 "
     ]
    }
   ],
   "source": [
    "in_so()"
   ]
  },
  {
   "cell_type": "markdown",
   "metadata": {},
   "source": [
    "4. Cho 1 lưới nxn các ô có hai trạng thái : còn sống hoặc đã chết. 1 ô bất kì có nhiều nhất 8 ô hàng xóm của nó (ngang, dọc, chéo. Cho 1 lưới với 1 số ô có thể còn sống hay đã chết ở thế hệ hiện tại. Các ô ở thế hệ tiếp theo sẽ là ô sống hay chết được xác định bởi ô hiện tại với các quy tắc\n",
    "\n",
    "| 1 | 2 | 3 |\n",
    "|---|---|---|\n",
    "| 4 |   | 5 |\n",
    "| 6 | 7 | 8 |\n",
    "\n",
    "- Bất kỳ ô sống nào có ít hơn 2 người hàng xóm còn sống thì sẽ chết\n",
    "- Bất kỳ ô sống nào có 2 hoặc 3 người hàng xóm conf sống thì sẽ sống \n",
    "- Bất kỳ ô sống nào có nhiều hơn 3 người hàng xóm còn sống thì sẽ chết\n",
    "- Bất kỳ ô chết nào có đúng 3 ngườ hàng xóm sống sẽ trở thành ô sống\n",
    "- Các ô chết còn lại thì vẫn chết\n",
    "\n",
    "Cho ô lưới 5x5, 1 đại diện cho ô còn sống, 0 đại diện cho đã chết. Viết hàm dự đoán thế hệ tiếp theo của ô lưới đã cho (input là lưới 5x5 thế hệ hiện tại, output là 5x5 thể hệ tiếp theo). Các ô ở viền không cập nhật trạng thái, chỉ cập nhật ô có đủ hàng xóm).\n",
    "\n",
    "![](5x5.png)"
   ]
  },
  {
   "cell_type": "code",
   "execution_count": 59,
   "metadata": {},
   "outputs": [],
   "source": [
    "def gameOfLife(board):\n",
    "    # 0 -> 0 status = 0\n",
    "    # 1 -> 1 status = 1\n",
    "    # 1 -> 0 status = 2\n",
    "    # 0 -> 1 status = 3\n",
    "    m, n = len(board), len(board[0])\n",
    "    directions = [(-1,-1),(0,-1),(1,-1),(-1,0),(1,0),(-1,1),(0,1),(1,1)]\n",
    "    for x in range(m):\n",
    "        for y in range(n):\n",
    "            lives = 0\n",
    "            for dx, dy in directions:\n",
    "                nx = x + dx\n",
    "                ny = y + dy\n",
    "                if 0<=nx<m and 0<=ny<n and (board[nx][ny] == 1 or board[nx][ny] == 2) :\n",
    "                    lives+=1\n",
    "\n",
    "            if board[x][y] == 0 and lives==3:\n",
    "                board[x][y] = 3\n",
    "            elif board[x][y] == 1 and (lives<2 or lives>3):\n",
    "                board[x][y] = 2\n",
    "    for x in range(m):\n",
    "        for y in range(n):\n",
    "            board[x][y] = board[x][y]%2\n",
    "    return board"
   ]
  },
  {
   "cell_type": "code",
   "execution_count": 62,
   "metadata": {},
   "outputs": [],
   "source": [
    "board = [\n",
    "        [0,0,0,0,0],\n",
    "        [0,1,1,0,0],\n",
    "        [0,1,1,0,0],\n",
    "        [0,0,1,0,0],\n",
    "        [0,0,0,0,0]\n",
    "        ]"
   ]
  },
  {
   "cell_type": "code",
   "execution_count": 63,
   "metadata": {},
   "outputs": [
    {
     "data": {
      "text/plain": [
       "[[0, 0, 0, 0, 0],\n",
       " [0, 1, 1, 0, 0],\n",
       " [0, 0, 0, 1, 0],\n",
       " [0, 1, 1, 0, 0],\n",
       " [0, 0, 0, 0, 0]]"
      ]
     },
     "execution_count": 63,
     "metadata": {},
     "output_type": "execute_result"
    }
   ],
   "source": [
    "gameOfLife(board)"
   ]
  },
  {
   "cell_type": "code",
   "execution_count": null,
   "metadata": {},
   "outputs": [],
   "source": []
  }
 ],
 "metadata": {
  "kernelspec": {
   "display_name": "Python 3",
   "language": "python",
   "name": "python3"
  },
  "language_info": {
   "codemirror_mode": {
    "name": "ipython",
    "version": 3
   },
   "file_extension": ".py",
   "mimetype": "text/x-python",
   "name": "python",
   "nbconvert_exporter": "python",
   "pygments_lexer": "ipython3",
   "version": "3.7.5"
  }
 },
 "nbformat": 4,
 "nbformat_minor": 2
}
